{
 "cells": [
  {
   "cell_type": "markdown",
   "id": "3bf8ef64",
   "metadata": {
    "id": "-E_I_06KWUaY",
    "papermill": {
     "duration": 0.010588,
     "end_time": "2024-11-04T19:48:34.728087",
     "exception": false,
     "start_time": "2024-11-04T19:48:34.717499",
     "status": "completed"
    },
    "tags": []
   },
   "source": [
    "### Генерация поэзии с помощью нейронных сетей: шаг 1\n",
    "##### Автор: [Радослав Нейчев](https://www.linkedin.com/in/radoslav-neychev/), @neychev\n",
    "\n",
    "Ваша основная задача: научиться генерироват стихи с помощью простой рекуррентной нейронной сети (Vanilla RNN). В качестве корпуса текстов для обучения будет выступать роман в стихах \"Евгений Онегин\" Александра Сергеевича Пушкина."
   ]
  },
  {
   "cell_type": "code",
   "execution_count": 1,
   "id": "84fb70ed",
   "metadata": {
    "execution": {
     "iopub.execute_input": "2024-11-04T19:48:34.750735Z",
     "iopub.status.busy": "2024-11-04T19:48:34.750061Z",
     "iopub.status.idle": "2024-11-04T19:48:37.866339Z",
     "shell.execute_reply": "2024-11-04T19:48:37.865339Z"
    },
    "id": "rVxFE3DwWUac",
    "papermill": {
     "duration": 3.130557,
     "end_time": "2024-11-04T19:48:37.868812",
     "exception": false,
     "start_time": "2024-11-04T19:48:34.738255",
     "status": "completed"
    },
    "tags": []
   },
   "outputs": [],
   "source": [
    "# do not change the code in the block below\n",
    "# __________start of block__________\n",
    "import string\n",
    "import os\n",
    "from random import sample\n",
    "\n",
    "import numpy as np\n",
    "import torch, torch.nn as nn\n",
    "import torch.nn.functional as F\n",
    "\n",
    "from IPython.display import clear_output\n",
    "\n",
    "import matplotlib.pyplot as plt\n",
    "# __________end of block__________"
   ]
  },
  {
   "cell_type": "code",
   "execution_count": 2,
   "id": "f2e6dbea",
   "metadata": {
    "execution": {
     "iopub.execute_input": "2024-11-04T19:48:37.889930Z",
     "iopub.status.busy": "2024-11-04T19:48:37.889475Z",
     "iopub.status.idle": "2024-11-04T19:48:37.958064Z",
     "shell.execute_reply": "2024-11-04T19:48:37.957007Z"
    },
    "id": "nWmloRauWUae",
    "outputId": "1e44214a-faf0-403f-e792-1421e5b8ddca",
    "papermill": {
     "duration": 0.081351,
     "end_time": "2024-11-04T19:48:37.960131",
     "exception": false,
     "start_time": "2024-11-04T19:48:37.878780",
     "status": "completed"
    },
    "tags": []
   },
   "outputs": [
    {
     "name": "stdout",
     "output_type": "stream",
     "text": [
      "cuda device is available\n"
     ]
    }
   ],
   "source": [
    "# do not change the code in the block below\n",
    "# __________start of block__________\n",
    "device = torch.device('cuda') if torch.cuda.is_available() else torch.device('cpu')\n",
    "print('{} device is available'.format(device))\n",
    "# __________end of block__________"
   ]
  },
  {
   "cell_type": "markdown",
   "id": "636a2241",
   "metadata": {
    "id": "MPenWOy01Ooa",
    "outputId": "a92e8e33-e009-4bd4-ac12-3b1b5e1cd3f2",
    "papermill": {
     "duration": 0.009778,
     "end_time": "2024-11-04T19:48:37.979883",
     "exception": false,
     "start_time": "2024-11-04T19:48:37.970105",
     "status": "completed"
    },
    "tags": []
   },
   "source": [
    "#### 1. Загрузка данных."
   ]
  },
  {
   "cell_type": "code",
   "execution_count": 3,
   "id": "9ca25e1d",
   "metadata": {
    "execution": {
     "iopub.execute_input": "2024-11-04T19:48:38.000962Z",
     "iopub.status.busy": "2024-11-04T19:48:38.000613Z",
     "iopub.status.idle": "2024-11-04T19:48:39.213295Z",
     "shell.execute_reply": "2024-11-04T19:48:39.211541Z"
    },
    "id": "l0KFSIwPWUag",
    "outputId": "267a24f6-5015-4330-911d-bccb1bddabb6",
    "papermill": {
     "duration": 1.226637,
     "end_time": "2024-11-04T19:48:39.216211",
     "exception": false,
     "start_time": "2024-11-04T19:48:37.989574",
     "status": "completed"
    },
    "tags": []
   },
   "outputs": [
    {
     "name": "stdout",
     "output_type": "stream",
     "text": [
      "--2024-11-04 19:48:38--  https://raw.githubusercontent.com/neychev/small_DL_repo/master/datasets/onegin.txt\r\n",
      "Resolving raw.githubusercontent.com (raw.githubusercontent.com)... 185.199.108.133, 185.199.109.133, 185.199.111.133, ...\r\n",
      "Connecting to raw.githubusercontent.com (raw.githubusercontent.com)|185.199.108.133|:443... connected.\r\n",
      "HTTP request sent, awaiting response... 200 OK\r\n",
      "Length: 262521 (256K) [text/plain]\r\n",
      "Saving to: 'onegin.txt'\r\n",
      "\r\n",
      "onegin.txt          100%[===================>] 256.37K  --.-KB/s    in 0.02s   \r\n",
      "\r\n",
      "2024-11-04 19:48:39 (10.7 MB/s) - 'onegin.txt' saved [262521/262521]\r\n",
      "\r\n"
     ]
    }
   ],
   "source": [
    "# do not change the code in the block below\n",
    "# __________start of block__________\n",
    "!wget https://raw.githubusercontent.com/neychev/small_DL_repo/master/datasets/onegin.txt\n",
    "\n",
    "with open('onegin.txt', 'r') as iofile:\n",
    "    text = iofile.readlines()\n",
    "\n",
    "text = \"\".join([x.replace('\\t\\t', '').lower() for x in text])\n",
    "# __________end of block__________"
   ]
  },
  {
   "cell_type": "markdown",
   "id": "8a42a596",
   "metadata": {
    "id": "XQYpmGfR_gJ8",
    "papermill": {
     "duration": 0.013098,
     "end_time": "2024-11-04T19:48:39.241946",
     "exception": false,
     "start_time": "2024-11-04T19:48:39.228848",
     "status": "completed"
    },
    "tags": []
   },
   "source": [
    "#### 2. Построение словаря и предобработка текста\n",
    "В данном задании требуется построить языковую модель на уровне символов. Приведем весь текст к нижнему регистру и построим словарь из всех символов в доступном корпусе текстов. Также добавим токен `<sos>`."
   ]
  },
  {
   "cell_type": "code",
   "execution_count": 4,
   "id": "0dc09e99",
   "metadata": {
    "execution": {
     "iopub.execute_input": "2024-11-04T19:48:39.266190Z",
     "iopub.status.busy": "2024-11-04T19:48:39.265817Z",
     "iopub.status.idle": "2024-11-04T19:48:39.299336Z",
     "shell.execute_reply": "2024-11-04T19:48:39.298336Z"
    },
    "id": "gcnIIdZxWUai",
    "outputId": "b6febaa6-9a14-4ff7-901f-eebcd0a97f35",
    "papermill": {
     "duration": 0.04746,
     "end_time": "2024-11-04T19:48:39.301342",
     "exception": false,
     "start_time": "2024-11-04T19:48:39.253882",
     "status": "completed"
    },
    "tags": []
   },
   "outputs": [
    {
     "name": "stdout",
     "output_type": "stream",
     "text": [
      "Seems fine!\n"
     ]
    }
   ],
   "source": [
    "# do not change the code in the block below\n",
    "# __________start of block__________\n",
    "tokens = sorted(set(text.lower())) + ['<sos>']\n",
    "num_tokens = len(tokens)\n",
    "\n",
    "assert num_tokens == 84, \"Check the tokenization process\"\n",
    "\n",
    "token_to_idx = {x: idx for idx, x in enumerate(tokens)}\n",
    "idx_to_token = {idx: x for idx, x in enumerate(tokens)}\n",
    "\n",
    "assert len(tokens) == len(token_to_idx), \"Mapping should be unique\"\n",
    "\n",
    "print(\"Seems fine!\")\n",
    "\n",
    "\n",
    "text_encoded = [token_to_idx[x] for x in text]\n",
    "# __________end of block__________"
   ]
  },
  {
   "cell_type": "markdown",
   "id": "1dc44f46",
   "metadata": {
    "id": "r9Lm7H4-WUaj",
    "papermill": {
     "duration": 0.012066,
     "end_time": "2024-11-04T19:48:39.327237",
     "exception": false,
     "start_time": "2024-11-04T19:48:39.315171",
     "status": "completed"
    },
    "tags": []
   },
   "source": [
    "__Ваша задача__: обучить классическую рекуррентную нейронную сеть (Vanilla RNN) предсказывать следующий символ на полученном корпусе текстов и сгенерировать последовательность длины 100 для фиксированной начальной фразы.\n",
    "\n",
    "Вы можете воспользоваться кодом с занятие №6 или же обратиться к следующим ссылкам:\n",
    "* Замечательная статья за авторством Andrej Karpathy об использовании RNN: [link](http://karpathy.github.io/2015/05/21/rnn-effectiveness/)\n",
    "* Пример char-rnn от Andrej Karpathy: [github repo](https://github.com/karpathy/char-rnn)\n",
    "* Замечательный пример генерации поэзии Шекспира: [github repo](https://github.com/spro/practical-pytorch/blob/master/char-rnn-generation/char-rnn-generation.ipynb)\n",
    "\n",
    "Данное задание является достаточно творческим. Не страшно, если поначалу оно вызывает затруднения. Последняя ссылка в списке выше может быть особенно полезна в данном случае.\n",
    "\n",
    "Далее для вашего удобства реализована функция, которая генерирует случайный батч размера `batch_size` из строк длиной `seq_length`. Вы можете использовать его при обучении модели."
   ]
  },
  {
   "cell_type": "code",
   "execution_count": 5,
   "id": "987f04d2",
   "metadata": {
    "execution": {
     "iopub.execute_input": "2024-11-04T19:48:39.352392Z",
     "iopub.status.busy": "2024-11-04T19:48:39.350751Z",
     "iopub.status.idle": "2024-11-04T19:48:39.361815Z",
     "shell.execute_reply": "2024-11-04T19:48:39.360753Z"
    },
    "id": "wxTC3YX1WUak",
    "papermill": {
     "duration": 0.025343,
     "end_time": "2024-11-04T19:48:39.364018",
     "exception": false,
     "start_time": "2024-11-04T19:48:39.338675",
     "status": "completed"
    },
    "tags": []
   },
   "outputs": [],
   "source": [
    "# do not change the code in the block below\n",
    "# __________start of block__________\n",
    "batch_size = 256\n",
    "seq_length = 100\n",
    "start_column = np.zeros((batch_size, 1), dtype=int) + token_to_idx['<sos>']\n",
    "\n",
    "def generate_chunk():\n",
    "    global text_encoded, start_column, batch_size, seq_length\n",
    "\n",
    "    start_index = np.random.randint(0, len(text_encoded) - batch_size*seq_length - 1)\n",
    "    data = np.array(text_encoded[start_index:start_index + batch_size*seq_length]).reshape((batch_size, -1))\n",
    "    yield np.hstack((start_column, data))\n",
    "# __________end of block__________"
   ]
  },
  {
   "cell_type": "markdown",
   "id": "b3bfbbc4",
   "metadata": {
    "id": "cY8iDH2oWUam",
    "papermill": {
     "duration": 0.014921,
     "end_time": "2024-11-04T19:48:39.393203",
     "exception": false,
     "start_time": "2024-11-04T19:48:39.378282",
     "status": "completed"
    },
    "tags": []
   },
   "source": [
    "Пример батча:"
   ]
  },
  {
   "cell_type": "markdown",
   "id": "42f70c0b",
   "metadata": {
    "papermill": {
     "duration": 0.012572,
     "end_time": "2024-11-04T19:48:39.417689",
     "exception": false,
     "start_time": "2024-11-04T19:48:39.405117",
     "status": "completed"
    },
    "tags": []
   },
   "source": []
  },
  {
   "cell_type": "code",
   "execution_count": 6,
   "id": "4e045e6f",
   "metadata": {
    "execution": {
     "iopub.execute_input": "2024-11-04T19:48:39.442432Z",
     "iopub.status.busy": "2024-11-04T19:48:39.442077Z",
     "iopub.status.idle": "2024-11-04T19:48:39.452868Z",
     "shell.execute_reply": "2024-11-04T19:48:39.451941Z"
    },
    "id": "3muFbMtKWUan",
    "outputId": "cc1d82cb-eadf-43fe-d865-3dd27b382ed6",
    "papermill": {
     "duration": 0.024085,
     "end_time": "2024-11-04T19:48:39.454811",
     "exception": false,
     "start_time": "2024-11-04T19:48:39.430726",
     "status": "completed"
    },
    "tags": []
   },
   "outputs": [
    {
     "data": {
      "text/plain": [
       "array([[83, 63, 45, ...,  1, 62, 64],\n",
       "       [83, 56, 53, ..., 62, 58, 45],\n",
       "       [83, 57,  5, ..., 60, 61, 59],\n",
       "       ...,\n",
       "       [83, 59, 68, ...,  0, 53, 52],\n",
       "       [83, 59, 46, ..., 48, 59, 47],\n",
       "       [83, 45, 76, ..., 49, 59, 54]])"
      ]
     },
     "execution_count": 6,
     "metadata": {},
     "output_type": "execute_result"
    }
   ],
   "source": [
    "next(generate_chunk())"
   ]
  },
  {
   "cell_type": "markdown",
   "id": "0ec8cf94",
   "metadata": {
    "id": "zHBMbzZrWUao",
    "papermill": {
     "duration": 0.009984,
     "end_time": "2024-11-04T19:48:39.474967",
     "exception": false,
     "start_time": "2024-11-04T19:48:39.464983",
     "status": "completed"
    },
    "tags": []
   },
   "source": [
    "Далее вам предстоит написать код для обучения модели и генерации текста."
   ]
  },
  {
   "cell_type": "code",
   "execution_count": 7,
   "id": "0cf5ddfc",
   "metadata": {
    "execution": {
     "iopub.execute_input": "2024-11-04T19:48:39.496466Z",
     "iopub.status.busy": "2024-11-04T19:48:39.496190Z",
     "iopub.status.idle": "2024-11-04T19:48:39.505687Z",
     "shell.execute_reply": "2024-11-04T19:48:39.504703Z"
    },
    "id": "G25dfNtMWUap",
    "papermill": {
     "duration": 0.023229,
     "end_time": "2024-11-04T19:48:39.508449",
     "exception": false,
     "start_time": "2024-11-04T19:48:39.485220",
     "status": "completed"
    },
    "tags": []
   },
   "outputs": [],
   "source": [
    "class PoetryRecurrentUnit(nn.Module):\n",
    "    def __init__(self, input_size, output_size, hidden_size=100, n_layers=4):\n",
    "        super(PoetryRecurrentUnit, self).__init__()\n",
    "        self.hidden_size = hidden_size\n",
    "        self.n_layers = n_layers\n",
    "        self.encoder = nn.Embedding(input_size, hidden_size)\n",
    "        self.gru = nn.GRU(hidden_size, hidden_size, n_layers)\n",
    "        self.decoder = nn.Linear(hidden_size, output_size)\n",
    "\n",
    "    def forward(self, data, hidden):\n",
    "        data = self.encoder(data.view(1, -1))\n",
    "        data, hidden = self.gru(data, hidden)\n",
    "        data = self.decoder(data).view(hidden.shape[1], -1)\n",
    "        return data, hidden\n",
    "    \n",
    "    def predict(self, data, hidden):\n",
    "        hidden_c, hidden_h = hidden\n",
    "        data, hidden_c, hidden_h = data.to(device), hidden_c.to(device), hidden_h.to(device)\n",
    "        output, hidden = self.forward(data, (hidden_c, hidden_h))\n",
    "        return output, hidden\n",
    "    \n",
    "    def init_hidden(self, size):\n",
    "        return torch.zeros(self.n_layers, size, self.hidden_size)"
   ]
  },
  {
   "cell_type": "code",
   "execution_count": null,
   "id": "b87908bf",
   "metadata": {
    "papermill": {
     "duration": 0.011751,
     "end_time": "2024-11-04T19:48:39.533023",
     "exception": false,
     "start_time": "2024-11-04T19:48:39.521272",
     "status": "completed"
    },
    "tags": []
   },
   "outputs": [],
   "source": []
  },
  {
   "cell_type": "code",
   "execution_count": 8,
   "id": "814cb49a",
   "metadata": {
    "execution": {
     "iopub.execute_input": "2024-11-04T19:48:39.556736Z",
     "iopub.status.busy": "2024-11-04T19:48:39.556150Z",
     "iopub.status.idle": "2024-11-04T19:48:41.114619Z",
     "shell.execute_reply": "2024-11-04T19:48:41.113851Z"
    },
    "id": "Z5noHNDUFA7h",
    "papermill": {
     "duration": 1.572117,
     "end_time": "2024-11-04T19:48:41.116955",
     "exception": false,
     "start_time": "2024-11-04T19:48:39.544838",
     "status": "completed"
    },
    "tags": []
   },
   "outputs": [],
   "source": [
    "model = PoetryRecurrentUnit(num_tokens, num_tokens, n_layers=1)\n",
    "\n",
    "model.to(device)\n",
    "\n",
    "num_epochs = 2100\n",
    "print_every = 100\n",
    "plot_every = 10\n",
    "\n",
    "optim = torch.optim.Adam(model.parameters(), lr=1e-2)\n",
    "lr_scheduler = torch.optim.lr_scheduler.ReduceLROnPlateau(optim, factor=0.3, patience=10)\n",
    "criterion = nn.CrossEntropyLoss()"
   ]
  },
  {
   "cell_type": "code",
   "execution_count": 9,
   "id": "f117e40b",
   "metadata": {
    "execution": {
     "iopub.execute_input": "2024-11-04T19:48:41.139164Z",
     "iopub.status.busy": "2024-11-04T19:48:41.138781Z",
     "iopub.status.idle": "2024-11-04T19:48:41.145136Z",
     "shell.execute_reply": "2024-11-04T19:48:41.144312Z"
    },
    "id": "Vc5LlvjbR2TO",
    "papermill": {
     "duration": 0.01926,
     "end_time": "2024-11-04T19:48:41.146926",
     "exception": false,
     "start_time": "2024-11-04T19:48:41.127666",
     "status": "completed"
    },
    "tags": []
   },
   "outputs": [],
   "source": [
    "def train_char_rnn(inps, targets):\n",
    "    hidden = model.init_hidden(batch_size)\n",
    "    hidden = hidden.to(device)\n",
    "    model.zero_grad()\n",
    "    loss = 0.\n",
    "    \n",
    "    for c in range(seq_length):\n",
    "        inp, target = torch.tensor(inps[:, c]), torch.tensor(targets[:, c])\n",
    "        inp, target = inp.to(device), target.to(device)\n",
    "        output, hidden = model(inp, hidden)\n",
    "        loss += criterion(output, target)\n",
    "    loss.backward()\n",
    "    optim.step()\n",
    "\n",
    "    return loss.item() / seq_length"
   ]
  },
  {
   "cell_type": "code",
   "execution_count": 10,
   "id": "5334b828",
   "metadata": {
    "execution": {
     "iopub.execute_input": "2024-11-04T19:48:41.168656Z",
     "iopub.status.busy": "2024-11-04T19:48:41.168370Z",
     "iopub.status.idle": "2024-11-04T19:48:41.257322Z",
     "shell.execute_reply": "2024-11-04T19:48:41.256608Z"
    },
    "id": "LBuHBlEkIumh",
    "papermill": {
     "duration": 0.10183,
     "end_time": "2024-11-04T19:48:41.259279",
     "exception": false,
     "start_time": "2024-11-04T19:48:41.157449",
     "status": "completed"
    },
    "tags": []
   },
   "outputs": [],
   "source": [
    "from tqdm.auto import tqdm as tqdma"
   ]
  },
  {
   "cell_type": "code",
   "execution_count": 11,
   "id": "fb7885e3",
   "metadata": {
    "execution": {
     "iopub.execute_input": "2024-11-04T19:48:41.281376Z",
     "iopub.status.busy": "2024-11-04T19:48:41.280712Z",
     "iopub.status.idle": "2024-11-04T19:48:41.289666Z",
     "shell.execute_reply": "2024-11-04T19:48:41.288900Z"
    },
    "id": "DMglCgSBWUaq",
    "papermill": {
     "duration": 0.022134,
     "end_time": "2024-11-04T19:48:41.291625",
     "exception": false,
     "start_time": "2024-11-04T19:48:41.269491",
     "status": "completed"
    },
    "tags": []
   },
   "outputs": [],
   "source": [
    "def generate_sample(char_rnn, seed_phrase=None, max_length=200, temperature=1.0, device=device):\n",
    "    '''\n",
    "    The function generates text given a phrase of length at least SEQ_LENGTH.\n",
    "    :param seed_phrase: prefix characters. The RNN is asked to continue the phrase\n",
    "    :param max_length: maximum output length, including seed_phrase\n",
    "    :param temperature: coefficient for sampling.  higher temperature produces more chaotic outputs,\n",
    "                        smaller temperature converges to the single most likely output\n",
    "    '''\n",
    "\n",
    "    if seed_phrase is not None:\n",
    "        x_sequence = [token_to_idx['<sos>']] + [token_to_idx[token] for token in seed_phrase]\n",
    "    else:\n",
    "        x_sequence = [token_to_idx['<sos>']]\n",
    "\n",
    "    x_sequence = torch.tensor([x_sequence], dtype=torch.int64).to(device)\n",
    "\n",
    "    #feed the seed phrase, if any\n",
    "\n",
    "    hidden = model.init_hidden(1)\n",
    "    hidden = hidden.to(device)\n",
    "    \n",
    "    for p in range(1, len(x_sequence[0]) - 1):\n",
    "        _, hidden = model(x_sequence[0][p], hidden)\n",
    "    \n",
    "    inp = x_sequence[0][-1]\n",
    "    \n",
    "    for p in range(max_length - len(seed_phrase)):\n",
    "        output, hidden = model(inp, hidden)\n",
    "\n",
    "        output_dist = output.data.view(-1).div(temperature).exp()\n",
    "        top_i = torch.multinomial(output_dist, 1)[0]\n",
    "        seed_phrase += tokens[top_i]\n",
    "        inp = top_i\n",
    "        \n",
    "\n",
    "    return seed_phrase"
   ]
  },
  {
   "cell_type": "code",
   "execution_count": 12,
   "id": "1c59b48a",
   "metadata": {
    "execution": {
     "iopub.execute_input": "2024-11-04T19:48:41.327869Z",
     "iopub.status.busy": "2024-11-04T19:48:41.327550Z",
     "iopub.status.idle": "2024-11-04T19:52:48.491314Z",
     "shell.execute_reply": "2024-11-04T19:52:48.490334Z"
    },
    "id": "XciZD-h5H2Ae",
    "outputId": "a66587b4-d8e3-42f4-c613-59c416e7281e",
    "papermill": {
     "duration": 247.177813,
     "end_time": "2024-11-04T19:52:48.494126",
     "exception": false,
     "start_time": "2024-11-04T19:48:41.316313",
     "status": "completed"
    },
    "tags": []
   },
   "outputs": [
    {
     "data": {
      "application/vnd.jupyter.widget-view+json": {
       "model_id": "2c8c07015b84422995104d82e8741f49",
       "version_major": 2,
       "version_minor": 0
      },
      "text/plain": [
       "  0%|          | 0/2100 [00:00<?, ?it/s]"
      ]
     },
     "metadata": {},
     "output_type": "display_data"
    },
    {
     "name": "stdout",
     "output_type": "stream",
     "text": [
      "epoch #100 Loss 0.008194323182106018 lr [[0.01]]\n",
      "мой дядя самых честных правили.\n",
      "\n",
      "\n",
      "\n",
      "xv\n",
      "\n",
      "ке шрады\n",
      "ей доль:\n",
      "тот,\n",
      "она вздо белья\n",
      "на придет сторастой,\n",
      "ве \n",
      "\n",
      "epoch #200 Loss 0.007186365127563476 lr [[0.01]]\n",
      "мой дядя самых честных правилею;\n",
      "как дерещей всять он в остароски всежбов,\n",
      "не встих их слушать и зан \n",
      "\n",
      "epoch #300 Loss 0.007341981530189514 lr [[0.01]]\n",
      "мой дядя самых честных правилит.\n",
      "\n",
      "\n",
      "\n",
      "ix\n",
      "\n",
      "но шум в лишь не молины,\n",
      "семья не плудельный зарова.\n",
      "\n",
      "\n",
      "\n",
      "vi\n",
      "\n",
      " \n",
      "\n",
      "epoch #400 Loss 0.006633085608482361 lr [[0.01]]\n",
      "мой дядя самых честных правил,\n",
      "своевою заберельным вень.\n",
      "вот полноко полукой было везде…\n",
      "и мысли дви \n",
      "\n",
      "epoch #500 Loss 0.006685490608215332 lr [[0.01]]\n",
      "мой дядя самых честных правил\n",
      "и на сам ольга и разлука моему;\n",
      "больстодом над инется кольцо;\n",
      "уты тамб \n",
      "\n",
      "epoch #600 Loss 0.006652015447616577 lr [[0.01]]\n",
      "мой дядя самых честных правилить.\n",
      "она в туманной вечеровится,\n",
      "четы странице светит страной.\n",
      "\n",
      "\n",
      "\n",
      "xxxii \n",
      "\n",
      "epoch #700 Loss 0.006350469589233398 lr [[0.01]]\n",
      "мой дядя самых честных правила,\n",
      "каками о другую,\n",
      "что лишь веждает две ослажатал\n",
      "он негодаронкает муз \n",
      "\n",
      "epoch #800 Loss 0.006687940955162048 lr [[0.01]]\n",
      "мой дядя самых честных правил;\n",
      "оно порой стол неделе.\n",
      "\n",
      "\n",
      "\n",
      "liii\n",
      "\n",
      "татьяна в созрекругоет первый\n",
      "в прошл \n",
      "\n",
      "epoch #900 Loss 0.00624022901058197 lr [[0.01]]\n",
      "мой дядя самых честных правил\n",
      "и пестрет страстой,\n",
      "оно сперею вродал\n",
      "всё тогда на дерговенной,\n",
      "на слу \n",
      "\n",
      "epoch #1000 Loss 0.006412748098373413 lr [[0.01]]\n",
      "мой дядя самых честных правильной\n",
      "для бледный ваши оно досавит\n",
      "его молодаясь.\n",
      "так любовним умолкне е \n",
      "\n",
      "epoch #1100 Loss 0.006056791543960572 lr [[0.01]]\n",
      "мой дядя самых честных правила\n",
      "не мертвожу сторой поспит,\n",
      "приятелить грандистали,\n",
      "надилась челого не \n",
      "\n",
      "epoch #1200 Loss 0.006516410708427429 lr [[0.01]]\n",
      "мой дядя самых честных правилась;\n",
      "помина не полные прощальной\n",
      "их на столся расстих нездет,\n",
      "и лишь вз \n",
      "\n",
      "epoch #1300 Loss 0.006299682259559632 lr [[0.01]]\n",
      "мой дядя самых честных правил:\n",
      "промуси на мог ее прокого.\n",
      "\n",
      "\n",
      "\n",
      "xxviii\n",
      "\n",
      "во много летскают,\n",
      "приками гово \n",
      "\n",
      "epoch #1400 Loss 0.005960082411766052 lr [[0.01]]\n",
      "мой дядя самых честных правил:\n",
      "он только таня подъебрав\n",
      "соседе надеждом черевой.\n",
      "за мечтожим он лише \n",
      "\n",
      "epoch #1500 Loss 0.006223929524421692 lr [[0.01]]\n",
      "мой дядя самых честных правил\n",
      "он писал превидили крества».\n",
      "\n",
      "\n",
      "\n",
      "xlvi\n",
      "\n",
      "но тожки в деревен песенной\n",
      "на с \n",
      "\n",
      "epoch #1600 Loss 0.006019505858421326 lr [[0.01]]\n",
      "мой дядя самых честных правился… спокрасным же наши,\n",
      "ей вечут коточно крашны я.\n",
      "«так все обажишно, и \n",
      "\n",
      "epoch #1700 Loss 0.005937227606773376 lr [[0.01]]\n",
      "мой дядя самых честных правила,\n",
      "она веселях доможала\n",
      "она из платился о ней\n",
      "меж умою норастий лиров\n",
      "н \n",
      "\n",
      "epoch #1800 Loss 0.006331337094306946 lr [[0.01]]\n",
      "мой дядя самых честных правильно,\n",
      "тебя ветрена, легкой старивой\n",
      "и, фрайный чазыбали?\n",
      "кого, пустый не \n",
      "\n",
      "epoch #1900 Loss 0.006798960566520691 lr [[0.01]]\n",
      "мой дядя самых честных правил;\n",
      "но всё в глубит в другий не смертьи,\n",
      "его его у благороссить\n",
      "уездна бы \n",
      "\n",
      "epoch #2000 Loss 0.0059497511386871335 lr [[0.01]]\n",
      "мой дядя самых честных правила,\n",
      "о кругится в его бездной\n",
      "в дев пора ходит он за мгливой\n",
      "не обот и со \n",
      "\n",
      "epoch #2100 Loss 0.006138464212417602 lr [[0.01]]\n",
      "мой дядя самых честных правил:\n",
      "пригуляне хоть теперь;\n",
      "\n",
      "\n",
      "\n",
      "xix\n",
      "\n",
      "прощай встретится иль нет?\n",
      "кто оне хоч \n",
      "\n"
     ]
    }
   ],
   "source": [
    "all_losses = []\n",
    "loss_avg = 0.\n",
    "\n",
    "for epoch in tqdma(range(1, num_epochs + 1)):\n",
    "    batch = next(generate_chunk())\n",
    "    inps, targets = batch[:, :-1], batch[:, 1:]\n",
    "    loss = train_char_rnn(inps, targets)\n",
    "    loss /= batch_size\n",
    "    loss_avg += loss\n",
    "    if epoch % print_every == 0:\n",
    "        print('epoch #{} Loss {} lr [{}]'.format(epoch, loss, lr_scheduler.get_last_lr()))\n",
    "        print(generate_sample(model, 'мой дядя самых честных правил', 100, temperature=0.8), '\\n')\n",
    "\n",
    "    if epoch % plot_every == 0:\n",
    "        all_losses.append(loss_avg / plot_every)\n",
    "        loss_avg = 0."
   ]
  },
  {
   "cell_type": "markdown",
   "id": "a732ac77",
   "metadata": {
    "id": "zeMKMb3VWUap",
    "papermill": {
     "duration": 0.012108,
     "end_time": "2024-11-04T19:52:48.518653",
     "exception": false,
     "start_time": "2024-11-04T19:52:48.506545",
     "status": "completed"
    },
    "tags": []
   },
   "source": [
    "В качестве иллюстрации ниже доступен график значений функции потерь, построенный в ходе обучения авторской сети (сам код для ее обучения вам и предстоит написать)."
   ]
  },
  {
   "cell_type": "code",
   "execution_count": null,
   "id": "e1653041",
   "metadata": {
    "id": "x9IZzeMGWUap",
    "outputId": "d27ec41b-c927-46a4-8ad8-239920a0fa7a",
    "papermill": {
     "duration": 0.011898,
     "end_time": "2024-11-04T19:52:48.542659",
     "exception": false,
     "start_time": "2024-11-04T19:52:48.530761",
     "status": "completed"
    },
    "tags": []
   },
   "outputs": [],
   "source": []
  },
  {
   "cell_type": "markdown",
   "id": "c8dadce4",
   "metadata": {
    "id": "hetc0955WUap",
    "papermill": {
     "duration": 0.012266,
     "end_time": "2024-11-04T19:52:48.566953",
     "exception": false,
     "start_time": "2024-11-04T19:52:48.554687",
     "status": "completed"
    },
    "tags": []
   },
   "source": [
    "Шаблон функции `generate_sample` также доступен ниже. Вы можете как дозаполнить его, так и написать свою собственную функцию с нуля. Не забывайте, что все примеры в обучающей выборке начинались с токена `<sos>`."
   ]
  },
  {
   "cell_type": "markdown",
   "id": "3798a4cc",
   "metadata": {
    "id": "N_TG55dTWUaq",
    "papermill": {
     "duration": 0.011874,
     "end_time": "2024-11-04T19:52:48.590948",
     "exception": false,
     "start_time": "2024-11-04T19:52:48.579074",
     "status": "completed"
    },
    "tags": []
   },
   "source": [
    "Пример текста сгенерированного обученной моделью доступен ниже. Не страшно, что в тексте много несуществующих слов. Используемая модель очень проста: это простая классическая RNN."
   ]
  },
  {
   "cell_type": "code",
   "execution_count": 13,
   "id": "609f3d9f",
   "metadata": {
    "execution": {
     "iopub.execute_input": "2024-11-04T19:52:48.617312Z",
     "iopub.status.busy": "2024-11-04T19:52:48.616507Z",
     "iopub.status.idle": "2024-11-04T19:52:48.876394Z",
     "shell.execute_reply": "2024-11-04T19:52:48.875343Z"
    },
    "id": "Yv5Ts_q3WUar",
    "outputId": "5f4669c7-0211-400e-8603-5d517db50485",
    "papermill": {
     "duration": 0.275454,
     "end_time": "2024-11-04T19:52:48.878409",
     "exception": false,
     "start_time": "2024-11-04T19:52:48.602955",
     "status": "completed"
    },
    "tags": []
   },
   "outputs": [
    {
     "name": "stdout",
     "output_type": "stream",
     "text": [
      " мой дядя самых честных правил\n",
      "к выскойшели поках, который,\n",
      "читали отресть мирных с торку\n",
      "всё толкой меня презренственной\n",
      "и что запоздаре верет.\n",
      "я на что не почуи поклонный\n",
      "и слиса челянов;\n",
      "хоть он в смотров беседыт.\n",
      "спит. памятили становал,\n",
      "на чуть резям наследстверь и ленский слышит…\n",
      "при разумавстверью зато поклонный,\n",
      "всегда повусили с ней,\n",
      "из шум с приленной перебила\n",
      "и потом\n",
      "ее снута, он иль старимый\n",
      "перестал бог летих трепет\n",
      "лиептет отвеке новы,\n",
      "с девствою туполи давь\n",
      "оно лека тень проходит \n"
     ]
    }
   ],
   "source": [
    "print(generate_sample(model, ' мой дядя самых честных правил', max_length=500, temperature=0.8))"
   ]
  },
  {
   "cell_type": "markdown",
   "id": "267386fa",
   "metadata": {
    "id": "E-jyJtz-WUar",
    "papermill": {
     "duration": 0.012063,
     "end_time": "2024-11-04T19:52:48.902903",
     "exception": false,
     "start_time": "2024-11-04T19:52:48.890840",
     "status": "completed"
    },
    "tags": []
   },
   "source": [
    "### Сдача задания\n",
    "Сгенерируйте десять последовательностей длиной 500, используя строку ' мой дядя самых честных правил'. Температуру для генерации выберите самостоятельно на основании визуального качества генериуремого текста. Не забудьте удалить все технические токены в случае их наличия.\n",
    "\n",
    "Сгенерированную последовательность сохрание в переменную `generated_phrase` и сдайте сгенерированный ниже файл в контест."
   ]
  },
  {
   "cell_type": "code",
   "execution_count": 14,
   "id": "1a481858",
   "metadata": {
    "execution": {
     "iopub.execute_input": "2024-11-04T19:52:48.928419Z",
     "iopub.status.busy": "2024-11-04T19:52:48.928097Z",
     "iopub.status.idle": "2024-11-04T19:52:48.932006Z",
     "shell.execute_reply": "2024-11-04T19:52:48.931168Z"
    },
    "id": "Wkep93oOWUar",
    "papermill": {
     "duration": 0.018872,
     "end_time": "2024-11-04T19:52:48.933883",
     "exception": false,
     "start_time": "2024-11-04T19:52:48.915011",
     "status": "completed"
    },
    "tags": []
   },
   "outputs": [],
   "source": [
    "seed_phrase = ' мой дядя самых честных правил'"
   ]
  },
  {
   "cell_type": "code",
   "execution_count": 15,
   "id": "eaeecb97",
   "metadata": {
    "execution": {
     "iopub.execute_input": "2024-11-04T19:52:48.959459Z",
     "iopub.status.busy": "2024-11-04T19:52:48.959178Z",
     "iopub.status.idle": "2024-11-04T19:52:51.456586Z",
     "shell.execute_reply": "2024-11-04T19:52:51.455795Z"
    },
    "id": "frfkkn9YWUas",
    "papermill": {
     "duration": 2.512841,
     "end_time": "2024-11-04T19:52:51.458827",
     "exception": false,
     "start_time": "2024-11-04T19:52:48.945986",
     "status": "completed"
    },
    "tags": []
   },
   "outputs": [],
   "source": [
    "generated_phrases = [\n",
    "     generate_sample(\n",
    "         model,\n",
    "         ' мой дядя самых честных правил',\n",
    "         max_length=500,\n",
    "         temperature=1.\n",
    "     ).replace('<sos>', '')\n",
    "     for _ in range(10)\n",
    " ]\n",
    "    \n",
    "# For example:\n",
    "\n",
    "# generated_phrases = [\n",
    "#     generate_sample(\n",
    "#         model,\n",
    "#         ' мой дядя самых честных правил',\n",
    "#         max_length=500,\n",
    "#         temperature=1.\n",
    "#     ).replace('<sos>', '')\n",
    "#     for _ in range(10)\n",
    "# ]"
   ]
  },
  {
   "cell_type": "code",
   "execution_count": 16,
   "id": "98d64740",
   "metadata": {
    "execution": {
     "iopub.execute_input": "2024-11-04T19:52:51.485565Z",
     "iopub.status.busy": "2024-11-04T19:52:51.485216Z",
     "iopub.status.idle": "2024-11-04T19:52:51.490260Z",
     "shell.execute_reply": "2024-11-04T19:52:51.489373Z"
    },
    "papermill": {
     "duration": 0.020939,
     "end_time": "2024-11-04T19:52:51.492460",
     "exception": false,
     "start_time": "2024-11-04T19:52:51.471521",
     "status": "completed"
    },
    "tags": []
   },
   "outputs": [
    {
     "name": "stdout",
     "output_type": "stream",
     "text": [
      "[' мой дядя самых честных правился,\\nгде жела. после…» —\\n«в модым пряду зовой польо,\\nвыпыл писью трепет ей.\\nкака он вперценьем. а не счастьяну.\\n\\n\\n\\nxxx\\n\\nтаков евгеник лучаю,\\nдовольный года, с патуменный,\\nтатьяна прохожда мужкет;\\nо уж элигок плол онегин,\\nвозврательный волшебной учец\\nот, нупе: он ворвов пустынный,\\nсадит с к еще не главо тугом раздели\\nзамечанье, горичей.\\n\\n\\n\\nxlv\\n\\nно к ты девожу причуз —\\n«да подковский чистала\\nзадави трещит он?\\n\\n\\n\\nxv\\n\\nи дар в вольник холомнуто скузный,\\nдля прином с племя', ' мой дядя самых честных правил\\nмедвед среди душой рекога». —\\n«о тот, под нужный вновь чюотому ей.\\nумились вы-унивия\\nнасладился надрежу подрусь.\\nа не показать? ксавить, и вметрает.\\n\\n\\n\\nxix\\n\\nпоключе и в шумен блепал,\\nуедвились помнет иногда иль;\\nее б романте уходят,\\nво можит он песенным картум:\\nи, разъезамых давно глядел\\nвсем в пилише в тихой тани,\\nбы неправный в глядит,\\nне. не говориное на —\\nлыбкой быйска, чистый лира.\\n\\n\\n\\nxxviii\\n\\nв кококрасдаться ворота.\\nтак поскучены; потом.\\n\\n\\n\\nx\\n\\nонегин уж бвен ', ' мой дядя самых честных правил\\nодин полнцивижу на посполе\\nих двор, его вздовстна, как! вот вумне имены,\\nмилый чернею слез б не своей\\nне сосил на милая тов,\\nслезы, это угробой,\\nкак лугалый проводы\\nдля никих с досугах!\\nни с ней умева полные в паждая\\nне тишь был была нет.\\n\\n\\n\\nxxxiv\\n\\nно ожесит в песнь уж я. молод,\\nах лвишу много приводит,\\nполился воле утились.\\nони же над! твой доле,\\nс каклить хози спортром изменять искажать\\nуж сожалиеква влекала было.\\nмихо усо в мельнице, холодая позбел…\\nи, нике ближ', ' мой дядя самых честных правил:\\nво нимилаясь мечты, их,\\nгусти шалоски, узнало глядеть?\\nевгений судьбы досать,\\nи по гросом, бряжил зарет;\\nблен и ленский моспыта,\\nи притвоз открыв прохолил.\\n\\n\\n\\nxiv\\n\\nоживати льчи и до греби\\nстарею взор без держе\\nцветот он выше вугать\\nкоторой капловей краку.\\nтатье, не в теми татьянат.\\nя не я пустойный для, конье,\\nо дела, скотричны! с деви:\\nодеждамир свечает сюдь,\\nхотором он к ного подковоренный умольный,\\nс летет: красна сосув должну:\\nочароны не труды!\\nчели. в молвил ', ' мой дядя самых честных правильном.\\nнакрытьям отцу полный успел;\\nуездный дукой прад:\\nа плеты дверь лик не говыда!\\nза благаду, таня,\\nи песлигом дубрав готовствою,\\nпоэта ровной взор затей.\\nоботоржесть в романье мог тайну изнежный,\\nпетревец в нем за креститесь вечений\\nзабуц отцу явильницы.\\n\\nvi\\n\\nкто обращни (как выскее скользических….\\nкн, потом черится ее главнах,\\nи всех разывицаньюю, не дай;\\nожец потомный ли скорок,\\nвелют ужипел мне жив;\\nна всюдул бы ни град моленный?\\nв песняй блещего с шум и сиккв', ' мой дядя самых честных правил:\\nвдах мородой,\\nи в мое видишь.\\nувят?» – «на жачей сердечно,\\nно двух холлонским легким людей,\\nвсегда пустынниконововный,\\nи с чем занят и покленный дотрейтей;\\nвогде успитликуны;\\nо куменный груститовки!\\nугранили мечтал, но вьяда,\\nмы полные легки,\\nкак мыслит – и слушала там.\\nперестах нет, голове на другую!..\\nумом и уманею исправил\\nосвать поневским скательной,\\nпо-трерческой сопцу виданью\\nне дале, вашу,\\nи оцину мворя нет: расну.\\nмолюбли обратила зологна\\nей знасту попами,', ' мой дядя самых честных правилась.\\nи в зевел belllle жюжа тра мыслись,\\n\\n\\n\\nxix\\n\\nпрочном всех правда рьников.\\n\\n\\n\\nxxix\\n\\n«подозный коньци обопуть.\\nпора влекали селенской,\\nпомни ветренает\\nточа его роеный грясь;\\nхоча забыт. прадались живой,\\nводния восохи томит;\\nпевердце доли с хозяй родных,\\nсидит когда-нясти себя на рукужь,\\nют вяказе верно путься так ей\\nсираянну умолжать он;\\nне жела, хомы пустоми бурь\\nраздвиго челый у в сюда деле,\\nувы и кабите ему;\\nи кабледве должен и тома,\\nи восковно пустое три,\\nскро', ' мой дядя самых честных правилась,\\nк тумчины постало зик.\\n\\nв грузь; и сохранцузность. и чем\\nпро пределеды, гореда,\\nпо письбою для них говорил?.\\n\\n\\n\\nxxviii\\n\\nохот и дого памятьстут,\\nв тубрела, и предрескову; —\\nстарбитризне много счасто посьмоон,\\nчто лен чертежно вы грача;\\nно вянших проходный в неслый,\\nвзграетом жизни стречен вродов\\nфинет, увят склонясь славить мои\\nвсё в дервилась шах, бывало,\\nскирчарен ни следствием, нобки,\\nтого трупеть, иль покой.\\nто полной лани и парповей\\nего четаливый любезны\\nи ', ' мой дядя самых честных правился,\\nчтоб за модит, чудисых былой,\\nно грусти теперь ужерды жизнии года;\\n«нящее тогда тайке,\\nхоть обрал мыслы было вылких;\\nгуд, мо сновой ей спраши,\\nпопамленской он трепело,\\nмогли так еще пред с томной\\nприк сюди звек моленною возврата\\nмоют с ее заправ своей\\nне сам мелькае слесте лежаси\\nополненый совнимиян и лежки,\\nдруга больноя ждет – он.\\nно готова, хоть моей,\\nчтоб был, рассвое молвно… цостело!\\nя так русиц моей он\\nзабовил в другинили он,\\nтвое путок никого. в пертожно\\n', ' мой дядя самых честных правильной.\\nвлюбленицы дичем\\nпроготов в кушу подруг дой;\\nот очаров и новленным прикивода,\\nкак ж жила брабникурась,\\nя твое жарой уеме,\\nтатьяна злозь должен простотые.\\nколенов, сношко вошней,\\nкак так охде молодой,\\nнемыл остола других,\\nополунир возвремь раздала\\nковния в писторыт.\\n«как уещенья, и счался…\\n\\n\\n\\n\\nxxxv\\n\\nно да туму прочили всё: где взор!\\nот мыл его тогда говор!\\nнужновилась отных взор\\nодна ясит в простыне видил.\\nон милый взбивый черевой.\\nс дремлавая жизни, нажет,\\nтог']\n"
     ]
    }
   ],
   "source": [
    "print(generated_phrases)"
   ]
  },
  {
   "cell_type": "code",
   "execution_count": 17,
   "id": "e487bd17",
   "metadata": {
    "execution": {
     "iopub.execute_input": "2024-11-04T19:52:51.518415Z",
     "iopub.status.busy": "2024-11-04T19:52:51.518128Z",
     "iopub.status.idle": "2024-11-04T19:52:51.528039Z",
     "shell.execute_reply": "2024-11-04T19:52:51.527111Z"
    },
    "id": "KG7F2YSjWUas",
    "papermill": {
     "duration": 0.025049,
     "end_time": "2024-11-04T19:52:51.529875",
     "exception": false,
     "start_time": "2024-11-04T19:52:51.504826",
     "status": "completed"
    },
    "tags": []
   },
   "outputs": [
    {
     "name": "stdout",
     "output_type": "stream",
     "text": [
      "File saved to `submission_dict.json`\n"
     ]
    }
   ],
   "source": [
    "# do not change the code in the block below\n",
    "# __________start of block__________\n",
    "\n",
    "import json\n",
    "if 'generated_phrases' not in locals():\n",
    "    raise ValueError(\"Please, save generated phrases to `generated_phrases` variable\")\n",
    "\n",
    "for phrase in generated_phrases:\n",
    "\n",
    "    if not isinstance(phrase, str):\n",
    "        raise ValueError(\"The generated phrase should be a string\")\n",
    "\n",
    "    if len(phrase) != 500:\n",
    "        raise ValueError(\"The `generated_phrase` length should be equal to 500\")\n",
    "\n",
    "    assert all([x in set(tokens) for x in set(list(phrase))]), 'Unknown tokens detected, check your submission!'\n",
    "\n",
    "\n",
    "submission_dict = {\n",
    "    'token_to_idx': token_to_idx,\n",
    "    'generated_phrases': generated_phrases\n",
    "}\n",
    "\n",
    "with open('submission_dict.json', 'w') as iofile:\n",
    "    json.dump(submission_dict, iofile)\n",
    "print('File saved to `submission_dict.json`')\n",
    "# __________end of block__________"
   ]
  },
  {
   "cell_type": "markdown",
   "id": "76cc4e9c",
   "metadata": {
    "id": "TYVs2o_CWUas",
    "papermill": {
     "duration": 0.012369,
     "end_time": "2024-11-04T19:52:51.554700",
     "exception": false,
     "start_time": "2024-11-04T19:52:51.542331",
     "status": "completed"
    },
    "tags": []
   },
   "source": [
    "На этом задание завершено. Поздравляем!"
   ]
  }
 ],
 "metadata": {
  "anaconda-cloud": {},
  "colab": {
   "provenance": []
  },
  "kaggle": {
   "accelerator": "gpu",
   "dataSources": [],
   "dockerImageVersionId": 30787,
   "isGpuEnabled": true,
   "isInternetEnabled": true,
   "language": "python",
   "sourceType": "notebook"
  },
  "kernelspec": {
   "display_name": "Python 3",
   "language": "python",
   "name": "python3"
  },
  "language_info": {
   "codemirror_mode": {
    "name": "ipython",
    "version": 3
   },
   "file_extension": ".py",
   "mimetype": "text/x-python",
   "name": "python",
   "nbconvert_exporter": "python",
   "pygments_lexer": "ipython3",
   "version": "3.10.14"
  },
  "papermill": {
   "default_parameters": {},
   "duration": 260.750739,
   "end_time": "2024-11-04T19:52:52.788814",
   "environment_variables": {},
   "exception": null,
   "input_path": "__notebook__.ipynb",
   "output_path": "__notebook__.ipynb",
   "parameters": {},
   "start_time": "2024-11-04T19:48:32.038075",
   "version": "2.6.0"
  },
  "widgets": {
   "application/vnd.jupyter.widget-state+json": {
    "state": {
     "26eddeedc8c9491db0b0b99651f49949": {
      "model_module": "@jupyter-widgets/controls",
      "model_module_version": "1.5.0",
      "model_name": "DescriptionStyleModel",
      "state": {
       "_model_module": "@jupyter-widgets/controls",
       "_model_module_version": "1.5.0",
       "_model_name": "DescriptionStyleModel",
       "_view_count": null,
       "_view_module": "@jupyter-widgets/base",
       "_view_module_version": "1.2.0",
       "_view_name": "StyleView",
       "description_width": ""
      }
     },
     "29dc5f5cc697446a992b93d202a6622f": {
      "model_module": "@jupyter-widgets/controls",
      "model_module_version": "1.5.0",
      "model_name": "ProgressStyleModel",
      "state": {
       "_model_module": "@jupyter-widgets/controls",
       "_model_module_version": "1.5.0",
       "_model_name": "ProgressStyleModel",
       "_view_count": null,
       "_view_module": "@jupyter-widgets/base",
       "_view_module_version": "1.2.0",
       "_view_name": "StyleView",
       "bar_color": null,
       "description_width": ""
      }
     },
     "2c8c07015b84422995104d82e8741f49": {
      "model_module": "@jupyter-widgets/controls",
      "model_module_version": "1.5.0",
      "model_name": "HBoxModel",
      "state": {
       "_dom_classes": [],
       "_model_module": "@jupyter-widgets/controls",
       "_model_module_version": "1.5.0",
       "_model_name": "HBoxModel",
       "_view_count": null,
       "_view_module": "@jupyter-widgets/controls",
       "_view_module_version": "1.5.0",
       "_view_name": "HBoxView",
       "box_style": "",
       "children": [
        "IPY_MODEL_74efc9f66e3140aa9bb9ffe045f515e0",
        "IPY_MODEL_943ee3e64cb6430eaeb92057fd2c2e11",
        "IPY_MODEL_f36ef9e046e144b4b12eed9032656cf6"
       ],
       "layout": "IPY_MODEL_595a1fe915d5423f9469e9b95f334129"
      }
     },
     "535b715961d34d1ca2053dd0ad52f59e": {
      "model_module": "@jupyter-widgets/controls",
      "model_module_version": "1.5.0",
      "model_name": "DescriptionStyleModel",
      "state": {
       "_model_module": "@jupyter-widgets/controls",
       "_model_module_version": "1.5.0",
       "_model_name": "DescriptionStyleModel",
       "_view_count": null,
       "_view_module": "@jupyter-widgets/base",
       "_view_module_version": "1.2.0",
       "_view_name": "StyleView",
       "description_width": ""
      }
     },
     "595a1fe915d5423f9469e9b95f334129": {
      "model_module": "@jupyter-widgets/base",
      "model_module_version": "1.2.0",
      "model_name": "LayoutModel",
      "state": {
       "_model_module": "@jupyter-widgets/base",
       "_model_module_version": "1.2.0",
       "_model_name": "LayoutModel",
       "_view_count": null,
       "_view_module": "@jupyter-widgets/base",
       "_view_module_version": "1.2.0",
       "_view_name": "LayoutView",
       "align_content": null,
       "align_items": null,
       "align_self": null,
       "border": null,
       "bottom": null,
       "display": null,
       "flex": null,
       "flex_flow": null,
       "grid_area": null,
       "grid_auto_columns": null,
       "grid_auto_flow": null,
       "grid_auto_rows": null,
       "grid_column": null,
       "grid_gap": null,
       "grid_row": null,
       "grid_template_areas": null,
       "grid_template_columns": null,
       "grid_template_rows": null,
       "height": null,
       "justify_content": null,
       "justify_items": null,
       "left": null,
       "margin": null,
       "max_height": null,
       "max_width": null,
       "min_height": null,
       "min_width": null,
       "object_fit": null,
       "object_position": null,
       "order": null,
       "overflow": null,
       "overflow_x": null,
       "overflow_y": null,
       "padding": null,
       "right": null,
       "top": null,
       "visibility": null,
       "width": null
      }
     },
     "74efc9f66e3140aa9bb9ffe045f515e0": {
      "model_module": "@jupyter-widgets/controls",
      "model_module_version": "1.5.0",
      "model_name": "HTMLModel",
      "state": {
       "_dom_classes": [],
       "_model_module": "@jupyter-widgets/controls",
       "_model_module_version": "1.5.0",
       "_model_name": "HTMLModel",
       "_view_count": null,
       "_view_module": "@jupyter-widgets/controls",
       "_view_module_version": "1.5.0",
       "_view_name": "HTMLView",
       "description": "",
       "description_tooltip": null,
       "layout": "IPY_MODEL_f26d7e9144fd4bd691cc7ff698861501",
       "placeholder": "​",
       "style": "IPY_MODEL_26eddeedc8c9491db0b0b99651f49949",
       "value": "100%"
      }
     },
     "7513a440afde4f4bbfc9b9fbf9725934": {
      "model_module": "@jupyter-widgets/base",
      "model_module_version": "1.2.0",
      "model_name": "LayoutModel",
      "state": {
       "_model_module": "@jupyter-widgets/base",
       "_model_module_version": "1.2.0",
       "_model_name": "LayoutModel",
       "_view_count": null,
       "_view_module": "@jupyter-widgets/base",
       "_view_module_version": "1.2.0",
       "_view_name": "LayoutView",
       "align_content": null,
       "align_items": null,
       "align_self": null,
       "border": null,
       "bottom": null,
       "display": null,
       "flex": null,
       "flex_flow": null,
       "grid_area": null,
       "grid_auto_columns": null,
       "grid_auto_flow": null,
       "grid_auto_rows": null,
       "grid_column": null,
       "grid_gap": null,
       "grid_row": null,
       "grid_template_areas": null,
       "grid_template_columns": null,
       "grid_template_rows": null,
       "height": null,
       "justify_content": null,
       "justify_items": null,
       "left": null,
       "margin": null,
       "max_height": null,
       "max_width": null,
       "min_height": null,
       "min_width": null,
       "object_fit": null,
       "object_position": null,
       "order": null,
       "overflow": null,
       "overflow_x": null,
       "overflow_y": null,
       "padding": null,
       "right": null,
       "top": null,
       "visibility": null,
       "width": null
      }
     },
     "943ee3e64cb6430eaeb92057fd2c2e11": {
      "model_module": "@jupyter-widgets/controls",
      "model_module_version": "1.5.0",
      "model_name": "FloatProgressModel",
      "state": {
       "_dom_classes": [],
       "_model_module": "@jupyter-widgets/controls",
       "_model_module_version": "1.5.0",
       "_model_name": "FloatProgressModel",
       "_view_count": null,
       "_view_module": "@jupyter-widgets/controls",
       "_view_module_version": "1.5.0",
       "_view_name": "ProgressView",
       "bar_style": "success",
       "description": "",
       "description_tooltip": null,
       "layout": "IPY_MODEL_c5285bb0f24147bfa50d1c2c99cfb65f",
       "max": 2100.0,
       "min": 0.0,
       "orientation": "horizontal",
       "style": "IPY_MODEL_29dc5f5cc697446a992b93d202a6622f",
       "value": 2100.0
      }
     },
     "c5285bb0f24147bfa50d1c2c99cfb65f": {
      "model_module": "@jupyter-widgets/base",
      "model_module_version": "1.2.0",
      "model_name": "LayoutModel",
      "state": {
       "_model_module": "@jupyter-widgets/base",
       "_model_module_version": "1.2.0",
       "_model_name": "LayoutModel",
       "_view_count": null,
       "_view_module": "@jupyter-widgets/base",
       "_view_module_version": "1.2.0",
       "_view_name": "LayoutView",
       "align_content": null,
       "align_items": null,
       "align_self": null,
       "border": null,
       "bottom": null,
       "display": null,
       "flex": null,
       "flex_flow": null,
       "grid_area": null,
       "grid_auto_columns": null,
       "grid_auto_flow": null,
       "grid_auto_rows": null,
       "grid_column": null,
       "grid_gap": null,
       "grid_row": null,
       "grid_template_areas": null,
       "grid_template_columns": null,
       "grid_template_rows": null,
       "height": null,
       "justify_content": null,
       "justify_items": null,
       "left": null,
       "margin": null,
       "max_height": null,
       "max_width": null,
       "min_height": null,
       "min_width": null,
       "object_fit": null,
       "object_position": null,
       "order": null,
       "overflow": null,
       "overflow_x": null,
       "overflow_y": null,
       "padding": null,
       "right": null,
       "top": null,
       "visibility": null,
       "width": null
      }
     },
     "f26d7e9144fd4bd691cc7ff698861501": {
      "model_module": "@jupyter-widgets/base",
      "model_module_version": "1.2.0",
      "model_name": "LayoutModel",
      "state": {
       "_model_module": "@jupyter-widgets/base",
       "_model_module_version": "1.2.0",
       "_model_name": "LayoutModel",
       "_view_count": null,
       "_view_module": "@jupyter-widgets/base",
       "_view_module_version": "1.2.0",
       "_view_name": "LayoutView",
       "align_content": null,
       "align_items": null,
       "align_self": null,
       "border": null,
       "bottom": null,
       "display": null,
       "flex": null,
       "flex_flow": null,
       "grid_area": null,
       "grid_auto_columns": null,
       "grid_auto_flow": null,
       "grid_auto_rows": null,
       "grid_column": null,
       "grid_gap": null,
       "grid_row": null,
       "grid_template_areas": null,
       "grid_template_columns": null,
       "grid_template_rows": null,
       "height": null,
       "justify_content": null,
       "justify_items": null,
       "left": null,
       "margin": null,
       "max_height": null,
       "max_width": null,
       "min_height": null,
       "min_width": null,
       "object_fit": null,
       "object_position": null,
       "order": null,
       "overflow": null,
       "overflow_x": null,
       "overflow_y": null,
       "padding": null,
       "right": null,
       "top": null,
       "visibility": null,
       "width": null
      }
     },
     "f36ef9e046e144b4b12eed9032656cf6": {
      "model_module": "@jupyter-widgets/controls",
      "model_module_version": "1.5.0",
      "model_name": "HTMLModel",
      "state": {
       "_dom_classes": [],
       "_model_module": "@jupyter-widgets/controls",
       "_model_module_version": "1.5.0",
       "_model_name": "HTMLModel",
       "_view_count": null,
       "_view_module": "@jupyter-widgets/controls",
       "_view_module_version": "1.5.0",
       "_view_name": "HTMLView",
       "description": "",
       "description_tooltip": null,
       "layout": "IPY_MODEL_7513a440afde4f4bbfc9b9fbf9725934",
       "placeholder": "​",
       "style": "IPY_MODEL_535b715961d34d1ca2053dd0ad52f59e",
       "value": " 2100/2100 [04:07&lt;00:00,  7.73it/s]"
      }
     }
    },
    "version_major": 2,
    "version_minor": 0
   }
  }
 },
 "nbformat": 4,
 "nbformat_minor": 5
}
