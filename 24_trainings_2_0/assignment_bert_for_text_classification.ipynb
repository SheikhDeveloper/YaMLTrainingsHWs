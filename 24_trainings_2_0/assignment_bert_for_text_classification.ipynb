{
 "cells": [
  {
   "cell_type": "markdown",
   "metadata": {
    "id": "jNtLJlW4v5VF",
    "tags": []
   },
   "source": [
    "## Классификация текстов с использованием предобученных языковых моделей.\n",
    "\n",
    "В данном задании вам предстоит обратиться к задаче классификации текстов и решить ее с использованием предобученной модели BERT."
   ]
  },
  {
   "cell_type": "code",
   "execution_count": 1,
   "metadata": {
    "execution": {
     "iopub.execute_input": "2025-02-10T12:46:02.011143Z",
     "iopub.status.busy": "2025-02-10T12:46:02.010130Z",
     "iopub.status.idle": "2025-02-10T12:46:04.030112Z",
     "shell.execute_reply": "2025-02-10T12:46:04.029163Z",
     "shell.execute_reply.started": "2025-02-10T12:46:02.011098Z"
    },
    "tags": []
   },
   "outputs": [],
   "source": [
    "import json\n",
    "# do not change the code in the block below\n",
    "# __________start of block__________\n",
    "import os\n",
    "import random\n",
    "\n",
    "import matplotlib.pyplot as plt\n",
    "import numpy as np\n",
    "import pandas as pd\n",
    "import torch\n",
    "import torch.nn as nn\n",
    "import torch.nn.functional as F\n",
    "from IPython.display import clear_output\n",
    "from sklearn.metrics import accuracy_score, roc_auc_score, roc_curve\n",
    "\n",
    "from sklearn.base import BaseEstimator\n",
    "\n",
    "%matplotlib inline\n",
    "# __________end of block__________"
   ]
  },
  {
   "cell_type": "markdown",
   "metadata": {},
   "source": [
    "Обратимся к набору данных SST-2. Holdout часть данных (которая понадобится вам для посылки) доступна по ссылке ниже."
   ]
  },
  {
   "cell_type": "code",
   "execution_count": 2,
   "metadata": {
    "execution": {
     "iopub.execute_input": "2025-02-10T12:46:04.033051Z",
     "iopub.status.busy": "2025-02-10T12:46:04.031715Z",
     "iopub.status.idle": "2025-02-10T12:46:04.444432Z",
     "shell.execute_reply": "2025-02-10T12:46:04.443450Z",
     "shell.execute_reply.started": "2025-02-10T12:46:04.033003Z"
    },
    "tags": []
   },
   "outputs": [
    {
     "name": "stderr",
     "output_type": "stream",
     "text": [
      "--2025-02-10 12:46:04--  https://raw.githubusercontent.com/girafe-ai/ml-course/refs/heads/24f_yandex_ml_trainings/homeworks/hw04_bert_and_co/texts_holdout.json\n",
      "Resolving raw.githubusercontent.com (raw.githubusercontent.com)... 185.199.110.133, 185.199.111.133, 185.199.108.133, ...\n",
      "Connecting to raw.githubusercontent.com (raw.githubusercontent.com)|185.199.110.133|:443... connected.\n",
      "HTTP request sent, awaiting response... 200 OK\n",
      "Length: 51581 (50K) [text/plain]\n",
      "Saving to: ‘texts_holdout.json.1’\n",
      "\n",
      "     0K .......... .......... .......... .......... .......... 99% 1.82M 0s\n",
      "    50K                                                       100%  710G=0.03s\n",
      "\n",
      "2025-02-10 12:46:04 (1.83 MB/s) - ‘texts_holdout.json.1’ saved [51581/51581]\n",
      "\n"
     ]
    }
   ],
   "source": [
    "# do not change the code in the block below\n",
    "# __________start of block__________\n",
    "\n",
    "!wget https://raw.githubusercontent.com/girafe-ai/ml-course/refs/heads/24f_yandex_ml_trainings/homeworks/hw04_bert_and_co/texts_holdout.json\n",
    "# __________end of block__________"
   ]
  },
  {
   "cell_type": "code",
   "execution_count": 3,
   "metadata": {
    "execution": {
     "iopub.execute_input": "2025-02-10T12:46:04.446365Z",
     "iopub.status.busy": "2025-02-10T12:46:04.445493Z",
     "iopub.status.idle": "2025-02-10T12:46:05.772081Z",
     "shell.execute_reply": "2025-02-10T12:46:05.771020Z",
     "shell.execute_reply.started": "2025-02-10T12:46:04.446329Z"
    },
    "tags": []
   },
   "outputs": [],
   "source": [
    "# do not change the code in the block below\n",
    "# __________start of block__________\n",
    "df = pd.read_csv(\n",
    "    \"https://github.com/clairett/pytorch-sentiment-classification/raw/master/data/SST2/train.tsv\",\n",
    "    delimiter=\"\\t\",\n",
    "    header=None,\n",
    ")\n",
    "texts_train = df[0].values[:5000]\n",
    "y_train = df[1].values[:5000]\n",
    "texts_test = df[0].values[5000:]\n",
    "y_test = df[1].values[5000:]\n",
    "with open(\"texts_holdout.json\") as iofile:\n",
    "    texts_holdout = json.load(iofile)\n",
    "# __________end of block__________"
   ]
  },
  {
   "cell_type": "code",
   "execution_count": 4,
   "metadata": {
    "execution": {
     "iopub.execute_input": "2025-02-10T12:46:05.775164Z",
     "iopub.status.busy": "2025-02-10T12:46:05.774378Z",
     "iopub.status.idle": "2025-02-10T12:46:05.838001Z",
     "shell.execute_reply": "2025-02-10T12:46:05.837143Z",
     "shell.execute_reply.started": "2025-02-10T12:46:05.775130Z"
    },
    "tags": []
   },
   "outputs": [],
   "source": [
    "device = 'cuda' if torch.cuda.is_available() else 'cpu'"
   ]
  },
  {
   "cell_type": "code",
   "execution_count": 5,
   "metadata": {
    "execution": {
     "iopub.execute_input": "2025-02-10T12:46:05.839665Z",
     "iopub.status.busy": "2025-02-10T12:46:05.838994Z",
     "iopub.status.idle": "2025-02-10T12:46:08.720840Z",
     "shell.execute_reply": "2025-02-10T12:46:08.719835Z",
     "shell.execute_reply.started": "2025-02-10T12:46:05.839623Z"
    },
    "tags": []
   },
   "outputs": [
    {
     "name": "stdout",
     "output_type": "stream",
     "text": [
      "Defaulting to user installation because normal site-packages is not writeable\n",
      "Requirement already satisfied: transformers in /home/jupyter/.local/lib/python3.10/site-packages (4.46.3)\n",
      "Requirement already satisfied: datasets in /home/jupyter/.local/lib/python3.10/site-packages (3.1.0)\n",
      "Requirement already satisfied: evaluate in /home/jupyter/.local/lib/python3.10/site-packages (0.4.3)\n",
      "Requirement already satisfied: accelerate in /home/jupyter/.local/lib/python3.10/site-packages (1.1.1)\n",
      "Requirement already satisfied: filelock in /usr/local/lib/python3.10/dist-packages (from transformers) (3.12.2)\n",
      "Requirement already satisfied: huggingface-hub<1.0,>=0.23.2 in /home/jupyter/.local/lib/python3.10/site-packages (from transformers) (0.26.3)\n",
      "Requirement already satisfied: numpy>=1.17 in /usr/local/lib/python3.10/dist-packages (from transformers) (1.22.4)\n",
      "Requirement already satisfied: packaging>=20.0 in /usr/local/lib/python3.10/dist-packages (from transformers) (23.1)\n",
      "Requirement already satisfied: pyyaml>=5.1 in /usr/local/lib/python3.10/dist-packages (from transformers) (6.0.1)\n",
      "Requirement already satisfied: regex!=2019.12.17 in /usr/local/lib/python3.10/dist-packages (from transformers) (2022.10.31)\n",
      "Requirement already satisfied: requests in /home/jupyter/.local/lib/python3.10/site-packages (from transformers) (2.32.3)\n",
      "Requirement already satisfied: tokenizers<0.21,>=0.20 in /home/jupyter/.local/lib/python3.10/site-packages (from transformers) (0.20.3)\n",
      "Requirement already satisfied: safetensors>=0.4.1 in /home/jupyter/.local/lib/python3.10/site-packages (from transformers) (0.4.5)\n",
      "Requirement already satisfied: tqdm>=4.27 in /home/jupyter/.local/lib/python3.10/site-packages (from transformers) (4.67.1)\n",
      "Requirement already satisfied: pyarrow>=15.0.0 in /home/jupyter/.local/lib/python3.10/site-packages (from datasets) (18.1.0)\n",
      "Requirement already satisfied: dill<0.3.9,>=0.3.0 in /home/jupyter/.local/lib/python3.10/site-packages (from datasets) (0.3.8)\n",
      "Requirement already satisfied: pandas in /usr/local/lib/python3.10/dist-packages (from datasets) (1.5.3)\n",
      "Requirement already satisfied: xxhash in /home/jupyter/.local/lib/python3.10/site-packages (from datasets) (3.5.0)\n",
      "Requirement already satisfied: multiprocess<0.70.17 in /home/jupyter/.local/lib/python3.10/site-packages (from datasets) (0.70.16)\n",
      "Requirement already satisfied: fsspec<=2024.9.0,>=2023.1.0 in /usr/local/lib/python3.10/dist-packages (from fsspec[http]<=2024.9.0,>=2023.1.0->datasets) (2023.6.0)\n",
      "Requirement already satisfied: aiohttp in /usr/local/lib/python3.10/dist-packages (from datasets) (3.8.5)\n",
      "Requirement already satisfied: psutil in /kernel/lib/python3.10/site-packages (from accelerate) (6.0.0)\n",
      "Requirement already satisfied: torch>=1.10.0 in /usr/local/lib/python3.10/dist-packages (from accelerate) (2.0.1+cu118)\n",
      "Requirement already satisfied: attrs>=17.3.0 in /usr/local/lib/python3.10/dist-packages (from aiohttp->datasets) (23.1.0)\n",
      "Requirement already satisfied: charset-normalizer<4.0,>=2.0 in /usr/local/lib/python3.10/dist-packages (from aiohttp->datasets) (2.0.12)\n",
      "Requirement already satisfied: multidict<7.0,>=4.5 in /usr/local/lib/python3.10/dist-packages (from aiohttp->datasets) (6.0.4)\n",
      "Requirement already satisfied: async-timeout<5.0,>=4.0.0a3 in /usr/local/lib/python3.10/dist-packages (from aiohttp->datasets) (4.0.2)\n",
      "Requirement already satisfied: yarl<2.0,>=1.0 in /usr/local/lib/python3.10/dist-packages (from aiohttp->datasets) (1.9.2)\n",
      "Requirement already satisfied: frozenlist>=1.1.1 in /usr/local/lib/python3.10/dist-packages (from aiohttp->datasets) (1.4.0)\n",
      "Requirement already satisfied: aiosignal>=1.1.2 in /usr/local/lib/python3.10/dist-packages (from aiohttp->datasets) (1.3.1)\n",
      "Requirement already satisfied: typing-extensions>=3.7.4.3 in /usr/local/lib/python3.10/dist-packages (from huggingface-hub<1.0,>=0.23.2->transformers) (4.7.1)\n",
      "Requirement already satisfied: idna<4,>=2.5 in /usr/local/lib/python3.10/dist-packages (from requests->transformers) (3.4)\n",
      "Requirement already satisfied: urllib3<3,>=1.21.1 in /usr/local/lib/python3.10/dist-packages (from requests->transformers) (1.26.16)\n",
      "Requirement already satisfied: certifi>=2017.4.17 in /usr/local/lib/python3.10/dist-packages (from requests->transformers) (2023.7.22)\n",
      "Requirement already satisfied: sympy in /usr/local/lib/python3.10/dist-packages (from torch>=1.10.0->accelerate) (1.11.1)\n",
      "Requirement already satisfied: networkx in /usr/local/lib/python3.10/dist-packages (from torch>=1.10.0->accelerate) (3.1)\n",
      "Requirement already satisfied: jinja2 in /usr/local/lib/python3.10/dist-packages (from torch>=1.10.0->accelerate) (3.1.2)\n",
      "Requirement already satisfied: triton==2.0.0 in /usr/local/lib/python3.10/dist-packages (from torch>=1.10.0->accelerate) (2.0.0)\n",
      "Requirement already satisfied: cmake in /usr/local/lib/python3.10/dist-packages (from triton==2.0.0->torch>=1.10.0->accelerate) (3.25.2)\n",
      "Requirement already satisfied: lit in /usr/local/lib/python3.10/dist-packages (from triton==2.0.0->torch>=1.10.0->accelerate) (16.0.6)\n",
      "Requirement already satisfied: python-dateutil>=2.8.1 in /usr/local/lib/python3.10/dist-packages (from pandas->datasets) (2.8.2)\n",
      "Requirement already satisfied: pytz>=2020.1 in /usr/local/lib/python3.10/dist-packages (from pandas->datasets) (2022.7.1)\n",
      "Requirement already satisfied: six>=1.5 in /usr/lib/python3/dist-packages (from python-dateutil>=2.8.1->pandas->datasets) (1.16.0)\n",
      "Requirement already satisfied: MarkupSafe>=2.0 in /usr/local/lib/python3.10/dist-packages (from jinja2->torch>=1.10.0->accelerate) (2.1.3)\n",
      "Requirement already satisfied: mpmath>=0.19 in /usr/local/lib/python3.10/dist-packages (from sympy->torch>=1.10.0->accelerate) (1.3.0)\n",
      "\n",
      "\u001b[1m[\u001b[0m\u001b[34;49mnotice\u001b[0m\u001b[1;39;49m]\u001b[0m\u001b[39;49m A new release of pip is available: \u001b[0m\u001b[31;49m23.0.1\u001b[0m\u001b[39;49m -> \u001b[0m\u001b[32;49m25.0.1\u001b[0m\n",
      "\u001b[1m[\u001b[0m\u001b[34;49mnotice\u001b[0m\u001b[1;39;49m]\u001b[0m\u001b[39;49m To update, run: \u001b[0m\u001b[32;49mpython3 -m pip install --upgrade pip\u001b[0m\n"
     ]
    }
   ],
   "source": [
    "%pip install transformers datasets evaluate accelerate"
   ]
  },
  {
   "cell_type": "markdown",
   "metadata": {},
   "source": [
    "Весь остальной код предстоит написать вам.\n",
    "\n",
    "Для успешной сдачи на максимальный балл необходимо добиться хотя бы __84.5% accuracy на тестовой части выборки__."
   ]
  },
  {
   "cell_type": "code",
   "execution_count": 6,
   "metadata": {
    "execution": {
     "iopub.execute_input": "2025-02-10T12:46:08.723577Z",
     "iopub.status.busy": "2025-02-10T12:46:08.722268Z",
     "iopub.status.idle": "2025-02-10T12:46:12.754264Z",
     "shell.execute_reply": "2025-02-10T12:46:12.753348Z",
     "shell.execute_reply.started": "2025-02-10T12:46:08.723525Z"
    },
    "tags": []
   },
   "outputs": [
    {
     "name": "stderr",
     "output_type": "stream",
     "text": [
      "/home/jupyter/.local/lib/python3.10/site-packages/transformers/utils/hub.py:128: FutureWarning: Using `TRANSFORMERS_CACHE` is deprecated and will be removed in v5 of Transformers. Use `HF_HOME` instead.\n",
      "  warnings.warn(\n",
      "2025-02-10 12:46:10.308028: I tensorflow/core/util/port.cc:110] oneDNN custom operations are on. You may see slightly different numerical results due to floating-point round-off errors from different computation orders. To turn them off, set the environment variable `TF_ENABLE_ONEDNN_OPTS=0`.\n",
      "2025-02-10 12:46:10.375827: I tensorflow/core/platform/cpu_feature_guard.cc:182] This TensorFlow binary is optimized to use available CPU instructions in performance-critical operations.\n",
      "To enable the following instructions: AVX2 AVX512F AVX512_VNNI FMA, in other operations, rebuild TensorFlow with the appropriate compiler flags.\n",
      "2025-02-10 12:46:11.400987: W tensorflow/compiler/tf2tensorrt/utils/py_utils.cc:38] TF-TRT Warning: Could not find TensorRT\n",
      "/usr/local/lib/python3.10/dist-packages/torchvision/datapoints/__init__.py:12: UserWarning: The torchvision.datapoints and torchvision.transforms.v2 namespaces are still Beta. While we do not expect major breaking changes, some APIs may still change according to user feedback. Please submit any feedback you may have in this issue: https://github.com/pytorch/vision/issues/6753, and you can also check out https://github.com/pytorch/vision/issues/7319 to learn more about the APIs that we suspect might involve future changes. You can silence this warning by calling torchvision.disable_beta_transforms_warning().\n",
      "  warnings.warn(_BETA_TRANSFORMS_WARNING)\n",
      "/usr/local/lib/python3.10/dist-packages/torchvision/transforms/v2/__init__.py:54: UserWarning: The torchvision.datapoints and torchvision.transforms.v2 namespaces are still Beta. While we do not expect major breaking changes, some APIs may still change according to user feedback. Please submit any feedback you may have in this issue: https://github.com/pytorch/vision/issues/6753, and you can also check out https://github.com/pytorch/vision/issues/7319 to learn more about the APIs that we suspect might involve future changes. You can silence this warning by calling torchvision.disable_beta_transforms_warning().\n",
      "  warnings.warn(_BETA_TRANSFORMS_WARNING)\n"
     ]
    }
   ],
   "source": [
    "# your beautiful experiments here\n",
    "\n",
    "from transformers import BertTokenizer, BertModel"
   ]
  },
  {
   "cell_type": "code",
   "execution_count": 7,
   "metadata": {
    "execution": {
     "iopub.execute_input": "2025-02-10T12:46:12.756821Z",
     "iopub.status.busy": "2025-02-10T12:46:12.755307Z",
     "iopub.status.idle": "2025-02-10T12:46:13.092451Z",
     "shell.execute_reply": "2025-02-10T12:46:13.091585Z",
     "shell.execute_reply.started": "2025-02-10T12:46:12.756785Z"
    },
    "tags": []
   },
   "outputs": [],
   "source": [
    "tokenizer = BertTokenizer.from_pretrained(\"bert-base-uncased\")"
   ]
  },
  {
   "cell_type": "code",
   "execution_count": 8,
   "metadata": {
    "execution": {
     "iopub.execute_input": "2025-02-10T12:46:13.094854Z",
     "iopub.status.busy": "2025-02-10T12:46:13.093536Z",
     "iopub.status.idle": "2025-02-10T12:46:13.115201Z",
     "shell.execute_reply": "2025-02-10T12:46:13.114356Z",
     "shell.execute_reply.started": "2025-02-10T12:46:13.094817Z"
    },
    "tags": []
   },
   "outputs": [],
   "source": [
    "def plot_train_process(\n",
    "    train_loss, val_loss, train_accuracy, val_accuracy, title_suffix=\"\"\n",
    "):\n",
    "    fig, axes = plt.subplots(1, 2, figsize=(15, 5))\n",
    "\n",
    "    axes[0].set_title(\" \".join([\"Loss\", title_suffix]))\n",
    "    axes[0].plot(train_loss, label=\"train\")\n",
    "    axes[0].plot(val_loss, label=\"validation\")\n",
    "    axes[0].legend()\n",
    "\n",
    "    axes[1].set_title(\" \".join([\"Validation accuracy\", title_suffix]))\n",
    "    axes[1].plot(train_accuracy, label=\"train\")\n",
    "    axes[1].plot(val_accuracy, label=\"validation\")\n",
    "    axes[1].legend()\n",
    "    plt.show()\n",
    "\n",
    "\n",
    "def visualize_and_save_results(\n",
    "    model, model_name, X_train, X_test, y_train, y_test, out_dict\n",
    "):\n",
    "    for data_name, X, y, model in [\n",
    "        (\"train\", X_train, y_train, model),\n",
    "        (\"test\", X_test, y_test, model),\n",
    "    ]:\n",
    "        if isinstance(model, BaseEstimator):\n",
    "            proba = model.predict_proba(X)[:, 1]\n",
    "        elif isinstance(model, nn.Module):\n",
    "            proba = model(**(X.to(model.device))).detach().cpu().numpy()[:, 1]\n",
    "        else:\n",
    "            raise ValueError(\"Unrecognized model type\")\n",
    "\n",
    "        auc = roc_auc_score(y, proba)\n",
    "\n",
    "        out_dict[f\"{model_name}_{data_name}\"] = auc\n",
    "        plt.plot(*roc_curve(y, proba)[:2], label=\"{} AUC={:.4f}\".format(data_name, auc))\n",
    "\n",
    "    plt.plot(\n",
    "        [0, 1],\n",
    "        [0, 1],\n",
    "        \"--\",\n",
    "        color=\"black\",\n",
    "    )\n",
    "    plt.legend(fontsize=\"large\")\n",
    "    plt.title(model_name)\n",
    "    plt.grid()\n",
    "    return out_dict"
   ]
  },
  {
   "cell_type": "code",
   "execution_count": 14,
   "metadata": {
    "execution": {
     "iopub.execute_input": "2025-02-10T12:51:37.437690Z",
     "iopub.status.busy": "2025-02-10T12:51:37.436331Z",
     "iopub.status.idle": "2025-02-10T12:51:37.469145Z",
     "shell.execute_reply": "2025-02-10T12:51:37.468142Z",
     "shell.execute_reply.started": "2025-02-10T12:51:37.437652Z"
    },
    "tags": []
   },
   "outputs": [],
   "source": [
    "class BertTextClassifier(torch.nn.Module):\n",
    "    \n",
    "    def __init__(self, num_classes=2):\n",
    "        super().__init__()\n",
    "        self.model = BertModel.from_pretrained('bert-base-uncased')\n",
    "        for param in self.model.parameters():\n",
    "            param.requires_grad = False\n",
    "        \n",
    "        self.device = torch.device(\"cuda:0\" if torch.cuda.is_available() else \"cpu\")\n",
    "        self.model.to(self.device)\n",
    "        self.dropout = torch.nn.Dropout(0.2).to(self.device)\n",
    "        self.linear1 = torch.nn.Linear(768, 512).to(self.device)\n",
    "        self.linear2 = torch.nn.Linear(512, 2).to(self.device)\n",
    "        self.relu = torch.nn.ReLU()\n",
    "        self.softmax = torch.nn.Softmax(dim=1)\n",
    "    \n",
    "    def forward(self, inputs):\n",
    "        _, data = self.model(**inputs, return_dict=False)\n",
    "        data = self.linear1(data)\n",
    "        data = self.dropout(data)\n",
    "        data = self.relu(data)\n",
    "        data = self.linear2(data)\n",
    "        return self.softmax(data)\n",
    "    "
   ]
  },
  {
   "cell_type": "code",
   "execution_count": 15,
   "metadata": {
    "execution": {
     "iopub.execute_input": "2025-02-10T12:51:38.237119Z",
     "iopub.status.busy": "2025-02-10T12:51:38.235791Z",
     "iopub.status.idle": "2025-02-10T12:51:38.903207Z",
     "shell.execute_reply": "2025-02-10T12:51:38.902297Z",
     "shell.execute_reply.started": "2025-02-10T12:51:38.237067Z"
    },
    "tags": []
   },
   "outputs": [
    {
     "name": "stdout",
     "output_type": "stream",
     "text": [
      "BertTextClassifier(\n",
      "  (model): BertModel(\n",
      "    (embeddings): BertEmbeddings(\n",
      "      (word_embeddings): Embedding(30522, 768, padding_idx=0)\n",
      "      (position_embeddings): Embedding(512, 768)\n",
      "      (token_type_embeddings): Embedding(2, 768)\n",
      "      (LayerNorm): LayerNorm((768,), eps=1e-12, elementwise_affine=True)\n",
      "      (dropout): Dropout(p=0.1, inplace=False)\n",
      "    )\n",
      "    (encoder): BertEncoder(\n",
      "      (layer): ModuleList(\n",
      "        (0-11): 12 x BertLayer(\n",
      "          (attention): BertAttention(\n",
      "            (self): BertSelfAttention(\n",
      "              (query): Linear(in_features=768, out_features=768, bias=True)\n",
      "              (key): Linear(in_features=768, out_features=768, bias=True)\n",
      "              (value): Linear(in_features=768, out_features=768, bias=True)\n",
      "              (dropout): Dropout(p=0.1, inplace=False)\n",
      "            )\n",
      "            (output): BertSelfOutput(\n",
      "              (dense): Linear(in_features=768, out_features=768, bias=True)\n",
      "              (LayerNorm): LayerNorm((768,), eps=1e-12, elementwise_affine=True)\n",
      "              (dropout): Dropout(p=0.1, inplace=False)\n",
      "            )\n",
      "          )\n",
      "          (intermediate): BertIntermediate(\n",
      "            (dense): Linear(in_features=768, out_features=3072, bias=True)\n",
      "            (intermediate_act_fn): GELUActivation()\n",
      "          )\n",
      "          (output): BertOutput(\n",
      "            (dense): Linear(in_features=3072, out_features=768, bias=True)\n",
      "            (LayerNorm): LayerNorm((768,), eps=1e-12, elementwise_affine=True)\n",
      "            (dropout): Dropout(p=0.1, inplace=False)\n",
      "          )\n",
      "        )\n",
      "      )\n",
      "    )\n",
      "    (pooler): BertPooler(\n",
      "      (dense): Linear(in_features=768, out_features=768, bias=True)\n",
      "      (activation): Tanh()\n",
      "    )\n",
      "  )\n",
      "  (dropout): Dropout(p=0.2, inplace=False)\n",
      "  (linear1): Linear(in_features=768, out_features=512, bias=True)\n",
      "  (linear2): Linear(in_features=512, out_features=2, bias=True)\n",
      "  (relu): ReLU()\n",
      "  (softmax): Softmax(dim=1)\n",
      ")\n"
     ]
    }
   ],
   "source": [
    "model = BertTextClassifier()\n",
    "print(model)\n",
    "\n",
    "optim = torch.optim.Adam(model.parameters(), lr=4e-4)\n",
    "\n",
    "loss_func = torch.nn.CrossEntropyLoss()"
   ]
  },
  {
   "cell_type": "code",
   "execution_count": 16,
   "metadata": {
    "execution": {
     "iopub.execute_input": "2025-02-10T12:51:47.077005Z",
     "iopub.status.busy": "2025-02-10T12:51:47.075757Z",
     "iopub.status.idle": "2025-02-10T12:51:47.139274Z",
     "shell.execute_reply": "2025-02-10T12:51:47.138377Z",
     "shell.execute_reply.started": "2025-02-10T12:51:47.076953Z"
    },
    "tags": []
   },
   "outputs": [],
   "source": [
    "def train_model(model, loss_fn, optim, y_train, y_val,\n",
    "               batch_size=256, num_epochs=1000, eval_every=10, show_plot=True):\n",
    "    train_loss_history = []\n",
    "    train_acc_history = []\n",
    "    val_loss_history = []\n",
    "    val_acc_history = []\n",
    "    \n",
    "    local_train_loss_history = []\n",
    "    local_train_acc_history = []\n",
    "    X_val = tokenizer(texts_test.tolist(), return_tensors='pt', padding=True, truncation=True).to(model.device)\n",
    "    \n",
    "    for epoch in range(num_epochs):\n",
    "\n",
    "        ix = np.random.randint(1, len(texts_train), batch_size)\n",
    "        X_batch = tokenizer(texts_train[ix].tolist(), return_tensors='pt', padding=True, truncation=True).to(model.device)\n",
    "        y_batch = torch.nn.functional.one_hot(y_train[ix]).to(torch.float32)\n",
    "\n",
    "        outs = model(X_batch)\n",
    "            \n",
    "        preds = torch.argmax(outs, dim=1)\n",
    "        loss = loss_fn(outs, y_batch)\n",
    "        \n",
    "        loss.backward()\n",
    "        \n",
    "        optim.step()\n",
    "        \n",
    "        optim.zero_grad()\n",
    "            \n",
    "        local_train_acc_history.append(\n",
    "            accuracy_score(\n",
    "                torch.argmax(y_batch, dim=1).to('cpu').detach().numpy(),\n",
    "                preds.to('cpu').detach().numpy()\n",
    "            )\n",
    "        )\n",
    "        local_train_loss_history.append(loss.item())\n",
    "                \n",
    "        if (epoch % eval_every == 0):\n",
    "            train_loss_history.append(np.mean(local_train_loss_history))\n",
    "            train_acc_history.append(np.mean(local_train_acc_history))\n",
    "            local_train_loss_history, local_train_acc_history = [], []\n",
    "            \n",
    "            model.eval()\n",
    "            with torch.no_grad():\n",
    "                    \n",
    "                outputs_val = model(X_val)\n",
    "\n",
    "                preds_val = torch.argmax(outputs_val, dim=1)\n",
    "                val_loss_history.append(loss_fn(outputs_val, y_val).item())\n",
    "                \n",
    "                val_acc_score = accuracy_score(\n",
    "                    torch.argmax(y_val, dim=1).to('cpu').detach().numpy(),\n",
    "                    preds_val.to('cpu').detach().numpy()\n",
    "                )\n",
    "                val_acc_history.append(val_acc_score)\n",
    "            \n",
    "            if show_plot:\n",
    "                clear_output(wait=True)\n",
    "                plot_train_process(\n",
    "                    train_loss_history, val_loss_history, train_acc_history, val_acc_history\n",
    "                )\n",
    "    \n",
    "    return model"
   ]
  },
  {
   "cell_type": "code",
   "execution_count": 17,
   "metadata": {
    "execution": {
     "iopub.execute_input": "2025-02-10T12:51:47.805839Z",
     "iopub.status.busy": "2025-02-10T12:51:47.804455Z",
     "iopub.status.idle": "2025-02-10T12:51:47.819095Z",
     "shell.execute_reply": "2025-02-10T12:51:47.818239Z",
     "shell.execute_reply.started": "2025-02-10T12:51:47.805780Z"
    },
    "tags": []
   },
   "outputs": [],
   "source": [
    "y_train_torch = torch.tensor(y_train).to(model.device)\n",
    "y_val_torch = torch.nn.functional.one_hot(torch.tensor(y_test)).to(torch.float32).to(model.device)"
   ]
  },
  {
   "cell_type": "code",
   "execution_count": null,
   "metadata": {
    "execution": {
     "iopub.execute_input": "2025-02-10T12:51:48.023886Z",
     "iopub.status.busy": "2025-02-10T12:51:48.022558Z"
    },
    "tags": []
   },
   "outputs": [
    {
     "data": {
      "image/png": "[encoded data removed]",
      "text/plain": [
       "<Figure size 1500x500 with 2 Axes>"
      ]
     },
     "metadata": {},
     "output_type": "display_data"
    }
   ],
   "source": [
    "ready_bert = train_model(model, loss_func, optim,\n",
    "                         y_train_torch, y_val_torch)"
   ]
  },
  {
   "cell_type": "markdown",
   "metadata": {
    "tags": []
   },
   "source": [
    "#### Сдача задания в контест\n",
    "Сохраните в словарь `out_dict` вероятности принадлежности к первому (положительному) классу"
   ]
  },
  {
   "cell_type": "code",
   "execution_count": null,
   "metadata": {
    "execution": {
     "iopub.status.busy": "2025-02-10T12:51:25.482963Z",
     "iopub.status.idle": "2025-02-10T12:51:25.483544Z",
     "shell.execute_reply": "2025-02-10T12:51:25.483297Z",
     "shell.execute_reply.started": "2025-02-10T12:51:25.483268Z"
    },
    "tags": []
   },
   "outputs": [],
   "source": [
    "X_val = tokenizer(texts_test.tolist(), return_tensors='pt', padding=True, truncation=True).to(model.device)\n",
    "X_train = tokenizer(texts_train.tolist(), return_tensors='pt', padding=True, truncation=True).to(model.device)"
   ]
  },
  {
   "cell_type": "code",
   "execution_count": null,
   "metadata": {
    "execution": {
     "iopub.status.busy": "2025-02-10T12:51:25.485812Z",
     "iopub.status.idle": "2025-02-10T12:51:25.486358Z",
     "shell.execute_reply": "2025-02-10T12:51:25.486192Z",
     "shell.execute_reply.started": "2025-02-10T12:51:25.486170Z"
    },
    "tags": []
   },
   "outputs": [],
   "source": [
    "print(X_train)"
   ]
  },
  {
   "cell_type": "code",
   "execution_count": null,
   "metadata": {
    "execution": {
     "iopub.status.busy": "2025-02-10T12:51:25.487535Z",
     "iopub.status.idle": "2025-02-10T12:51:25.488200Z",
     "shell.execute_reply": "2025-02-10T12:51:25.488029Z",
     "shell.execute_reply.started": "2025-02-10T12:51:25.488006Z"
    },
    "tags": []
   },
   "outputs": [],
   "source": [
    "out_dict = {\n",
    "    'train': [i[1] for i in model(X_train).to('cpu').detach().numpy().tolist()],\n",
    "    'test': [i[1] for i in model(X_val).to('cpu').detach().numpy().tolist()],\n",
    "    'holdout': [i[1] for i in model(tokenizer(texts_holdout, return_tensors='pt', padding=True, truncation=True).to(model.device)).to('cpu').detach().numpy().tolist()]\n",
    "}"
   ]
  },
  {
   "cell_type": "code",
   "execution_count": null,
   "metadata": {
    "execution": {
     "iopub.status.busy": "2025-02-10T12:51:25.489660Z",
     "iopub.status.idle": "2025-02-10T12:51:25.490461Z",
     "shell.execute_reply": "2025-02-10T12:51:25.490212Z",
     "shell.execute_reply.started": "2025-02-10T12:51:25.490177Z"
    },
    "tags": []
   },
   "outputs": [],
   "source": [
    "print(len(out_dict['train']))"
   ]
  },
  {
   "cell_type": "markdown",
   "metadata": {},
   "source": [
    "Несколько `assert`'ов для проверки вашей посылки:"
   ]
  },
  {
   "cell_type": "code",
   "execution_count": null,
   "metadata": {
    "execution": {
     "iopub.status.busy": "2025-02-10T12:51:25.491802Z",
     "iopub.status.idle": "2025-02-10T12:51:25.492665Z",
     "shell.execute_reply": "2025-02-10T12:51:25.492411Z",
     "shell.execute_reply.started": "2025-02-10T12:51:25.492386Z"
    },
    "tags": []
   },
   "outputs": [],
   "source": [
    "assert isinstance(out_dict[\"train\"], list), \"Object must be a list of floats\"\n",
    "assert isinstance(out_dict[\"train\"][0], float), \"Object must be a list of floats\"\n",
    "assert (\n",
    "    len(out_dict[\"train\"]) == 5000\n",
    "), \"The predicted probas list length does not match the train set size\"\n",
    "\n",
    "assert isinstance(out_dict[\"test\"], list), \"Object must be a list of floats\"\n",
    "assert isinstance(out_dict[\"test\"][0], float), \"Object must be a list of floats\"\n",
    "assert (\n",
    "    len(out_dict[\"test\"]) == 1920\n",
    "), \"The predicted probas list length does not match the test set size\"\n",
    "\n",
    "assert isinstance(out_dict[\"holdout\"], list), \"Object must be a list of floats\"\n",
    "assert isinstance(out_dict[\"holdout\"][0], float), \"Object must be a list of floats\"\n",
    "assert len(\n",
    "    out_dict[\"holdout\"] \n",
    "), \"The predicted probas list length does not match the holdout set size\""
   ]
  },
  {
   "cell_type": "markdown",
   "metadata": {},
   "source": [
    "Запустите код ниже для генерации посылки."
   ]
  },
  {
   "cell_type": "code",
   "execution_count": null,
   "metadata": {
    "execution": {
     "iopub.status.busy": "2025-02-10T12:51:25.494083Z",
     "iopub.status.idle": "2025-02-10T12:51:25.494500Z",
     "shell.execute_reply": "2025-02-10T12:51:25.494327Z",
     "shell.execute_reply.started": "2025-02-10T12:51:25.494310Z"
    },
    "tags": []
   },
   "outputs": [],
   "source": [
    "# do not change the code in the block below\n",
    "# __________start of block__________\n",
    "FILENAME = \"submission_dict_hw_text_classification_with_bert.json\"\n",
    "\n",
    "with open(FILENAME, \"w\") as iofile:\n",
    "    json.dump(out_dict, iofile)\n",
    "print(f\"File saved to `{FILENAME}`\")\n",
    "# __________end of block__________"
   ]
  },
  {
   "cell_type": "markdown",
   "metadata": {},
   "source": [
    "На этом задание завершено. Поздравляем!"
   ]
  }
 ],
 "metadata": {
  "colab": {
   "collapsed_sections": [],
   "name": "NLP_hw01_texts.ipynb",
   "provenance": []
  },
  "kernelspec": {
   "display_name": "DataSphere Kernel",
   "language": "python",
   "name": "python3"
  },
  "language_info": {
   "codemirror_mode": {
    "name": "ipython",
    "version": 3
   },
   "file_extension": ".py",
   "mimetype": "text/x-python",
   "name": "python",
   "nbconvert_exporter": "python",
   "pygments_lexer": "ipython3",
   "version": "3.10.12"
  }
 },
 "nbformat": 4,
 "nbformat_minor": 4
}
